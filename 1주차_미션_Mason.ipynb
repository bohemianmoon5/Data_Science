{
 "cells": [
  {
   "cell_type": "code",
   "execution_count": 16,
   "id": "a1cdd468",
   "metadata": {},
   "outputs": [
    {
     "name": "stdout",
     "output_type": "stream",
     "text": [
      "['Q2', 'Q3', 'Q4', 'Q5', 'Q8', 'Q9']\n"
     ]
    }
   ],
   "source": [
    "## Q1\n",
    "\n",
    "#문제\n",
    "question = ['Q2', 'Q3', 'Q4', 'Q5', 'Q6_1', 'Q6_2', 'Q6_3', 'Q6_4', 'Q6_5', 'Q6_6',\n",
    "       'Q6_7', 'Q6_8', 'Q6_9', 'Q6_10', 'Q6_11', 'Q6_12', 'Q7_1', 'Q7_2',\n",
    "       'Q7_3', 'Q7_4', 'Q7_5', 'Q7_6', 'Q7_7', 'Q8', 'Q9', 'Q10_1', 'Q10_2',\n",
    "       'Q10_3']\n",
    "\n",
    "# 리스트 생성\n",
    "single_choice = []\n",
    "\n",
    "# 삭제 카운트\n",
    "count = 0\n",
    "\n",
    "# 반복문\n",
    "for q in question :\n",
    "    # 조건문\n",
    "    if \"_\" in q :\n",
    "        count += 1\n",
    "    else :\n",
    "        single_choice.append(q)\n",
    "\n",
    "# 결과물 출력\n",
    "print(single_choice)\n",
    "# print(\"\\n multiple choice 제거 : \" + str(count))"
   ]
  },
  {
   "cell_type": "code",
   "execution_count": 39,
   "id": "912f2e50",
   "metadata": {},
   "outputs": [
    {
     "name": "stdout",
     "output_type": "stream",
     "text": [
      "+--------+----------+----------+-----------+-----------------+---------+-------+\n",
      "|   Year |   Canada |   France |   Germany |   Great Britain |   Japan |   USA |\n",
      "|--------+----------+----------+-----------+-----------------+---------+-------|\n",
      "|   2011 |     81.4 |     82.3 |      80.5 |            81.0 |    82.7 |  78.7 |\n",
      "|   2012 |     81.6 |     82.1 |      80.6 |            81.0 |    83.2 |  78.8 |\n",
      "|   2013 |     81.7 |     82.3 |      80.6 |            81.1 |    83.4 |  78.8 |\n",
      "|   2014 |     81.8 |     82.8 |      81.2 |            81.4 |    83.7 |  78.9 |\n",
      "|   2015 |     81.9 |     82.4 |      80.7 |            81.0 |    83.9 |  78.7 |\n",
      "|   2016 |     82.0 |     82.7 |      81.0 |            81.2 |    84.1 |  78.7 |\n",
      "|   2017 |     81.9 |     82.7 |      81.1 |            81.3 |    84.2 |  78.6 |\n",
      "|   2018 |     82.0 |     82.8 |      81.0 |            81.3 |    84.3 |  78.7 |\n",
      "|   2019 |     82.2 |     82.9 |      81.3 |            81.4 |    84.4 |  78.8 |\n",
      "|   2020 |     81.7 |     82.3 |      81.1 |            80.4 |    84.7 |  77.0 |\n",
      "+--------+----------+----------+-----------+-----------------+---------+-------+\n"
     ]
    }
   ],
   "source": [
    "## Q2\n",
    "\n",
    "import pandas as pd\n",
    "from tabulate import tabulate\n",
    "\n",
    "# csv 파일 읽기\n",
    "df = pd.read_csv(\"https://raw.githubusercontent.com/mwaskom/seaborn-data/master/healthexp.csv\")\n",
    "\n",
    "# 2010년 이후만 분류\n",
    "after_2010 = df[df['Year'] >= 2011]\n",
    "\n",
    "# pivot table 사용\n",
    "pivot_df = after_2010.pivot_table(index='Year', columns='Country', values='Life_Expectancy', aggfunc='mean')\n",
    "\n",
    "# 결과물 출력\n",
    "print(tabulate(pivot_df, headers='keys', tablefmt='psql', floatfmt=\".1f\"))"
   ]
  },
  {
   "cell_type": "code",
   "execution_count": 40,
   "id": "4495239e",
   "metadata": {},
   "outputs": [
    {
     "ename": "IndentationError",
     "evalue": "unexpected indent (2075330409.py, line 7)",
     "output_type": "error",
     "traceback": [
      "\u001b[1;36m  Cell \u001b[1;32mIn[40], line 7\u001b[1;36m\u001b[0m\n\u001b[1;33m    - How to use jupyter notebook\u001b[0m\n\u001b[1;37m    ^\u001b[0m\n\u001b[1;31mIndentationError\u001b[0m\u001b[1;31m:\u001b[0m unexpected indent\n"
     ]
    }
   ],
   "source": [
    "## Q3\n",
    "\n",
    "# [코칭스터디] Data Science 2024 1주차\n",
    "\n",
    "## - 데이터 분석 환경 구성\n",
    "\n",
    "        - How to use jupyter notebook\n",
    "            * Shift + Enter 키를 누르면 셀이 실행되고 커서가 다음셀로 이동합니다.\n",
    "            * Enter 키를 누르면 다시 편집 상태로 돌아옵니다.\n",
    "            * ESC 키를 누르고\n",
    "                * a 키를 누르면 위에 셀이 추가됩니다.\n",
    "                * b 키를 누르면 아래에 셀이 추가됩니다.\n",
    "                * dd 키를 누르면 셀이 삭제됩니다.\n",
    "                * m 키를 누르면 문서 셀로 변경됩니다.\n",
    "                * y 키를 누르면 코드 셀로 변경됩니다.\n",
    "                \n",
    "        - What is Markdown?\n",
    "            * 코드와 함께 문서화를 하실 수 있습니다.\n",
    "            * 문서화를 할 수 있는 문법입니다.\n",
    "            \n",
    "## - 데이터 분석 준비하기\n",
    "        \n",
    "        - Basic of Python\n",
    "            * import : 라이브러리, 패키지 가져오기 \n",
    "            * boolean : True, False, 1, 0\n",
    "            * data type : number, string\n",
    "            * list : 리스트\n",
    "            * for : 반복문\n",
    "            * if : 조건문\n",
    "            * len : 문자열 길이\n",
    "            * split : 문자열 분리\n",
    "            * join : 문자열 연결\n",
    "            \n",
    "        - Basic of Pandas\n",
    "            * pandas : 수식으로 계산할 수 있고 시각화도 할 수 있는 데이터 분석도구(대용량 데이터 분석 가능)\n",
    "            * dataframe : 2차원 구조, 행렬\n",
    "            * series : 1차원 구조, 백터\n",
    "            * subset : 일부 값만 불러오기\n",
    "            * summarize Data : value_counts() -> 빈도수\n",
    "            * sort_values() : 정렬\n",
    "            * drop : 삭제\n",
    "            * groupby : 값을 기준으로 그룹화\n",
    "            * pivot_table : 집계, 그룹화\n",
    "            * plot : 시각화\n",
    "        \n",
    "        - file path\n",
    "            * 절대 경로 : path를 모두 적음\n",
    "            * 상대 경로 : 현재 폴더 기준으로 적음\n",
    "            * 파일 경로 확인 : %pwd, os.getcwd()\n",
    "            * glob : 특정 폴더에 어떤 파일이 있는지 확인 가능\n",
    "            * encoding : cp949 -> 한글 윈도우에서 사용되는 인코딩 방식"
   ]
  },
  {
   "cell_type": "code",
   "execution_count": 53,
   "id": "c64e81a5",
   "metadata": {},
   "outputs": [
    {
     "name": "stdout",
     "output_type": "stream",
     "text": [
      "+----------+---------------------+---------------------+\n",
      "| 서울시   |   2022년(관객수)-명 |   2023년(관객수)-명 |\n",
      "+==========+=====================+=====================+\n",
      "| 01월     |             1619018 |             2912634 |\n",
      "+----------+---------------------+---------------------+\n",
      "| 02월     |             1009945 |             1883898 |\n",
      "+----------+---------------------+---------------------+\n",
      "| 03월     |              927395 |             2088673 |\n",
      "+----------+---------------------+---------------------+\n",
      "| 04월     |              979408 |             1996690 |\n",
      "+----------+---------------------+---------------------+\n",
      "| 05월     |             3601522 |             3018955 |\n",
      "+----------+---------------------+---------------------+\n",
      "| 06월     |             3793548 |             3578120 |\n",
      "+----------+---------------------+---------------------+\n",
      "| 07월     |             4284193 |             3740595 |\n",
      "+----------+---------------------+---------------------+\n",
      "| 08월     |             3530030 |             3583280 |\n",
      "+----------+---------------------+---------------------+\n",
      "| 09월     |             2308886 |             1840833 |\n",
      "+----------+---------------------+---------------------+\n",
      "| 10월     |             1636471 |             1818226 |\n",
      "+----------+---------------------+---------------------+\n",
      "| 11월     |             1748831 |             2043832 |\n",
      "+----------+---------------------+---------------------+\n",
      "| 12월     |             3484968 |             3929299 |\n",
      "+----------+---------------------+---------------------+\n"
     ]
    }
   ],
   "source": [
    "## Q4\n",
    "\n",
    "import pandas as pd\n",
    "from tabulate import tabulate\n",
    "\n",
    "# csv 파일 읽기\n",
    "df_2022 = pd.read_csv(\"./data/KC_CLTUR_MOVIE_ACTIVE_IDEX_LIST_2022.csv\")\n",
    "df_2023 = pd.read_csv(\"./data/KC_CLTUR_MOVIE_ACTIVE_IDEX_LIST_2023.csv\")\n",
    "\n",
    "# 서울시만 분류\n",
    "seoul_df_2022 = df_2022[df_2022[\"CTPRVN_NM\"] == \"서울시\"]\n",
    "seoul_df_2023 = df_2023[df_2023[\"CTPRVN_NM\"] == \"서울시\"]\n",
    "\n",
    "# 2022, 2023 데이터 합치기\n",
    "combined_df = pd.concat([seoul_df_2022, seoul_df_2023])\n",
    "\n",
    "# pivot table 사용\n",
    "pivot_df = combined_df.pivot_table(index='BASE_MT', columns='BASE_YEAR', values='MOVIE_ADNC_CO', aggfunc='sum')\n",
    "\n",
    "# 출력 형식 지정\n",
    "pivot_df.columns = [f\"{year}년(관객수)-명\" for year in pivot_df.columns]\n",
    "pivot_df.index.name = '서울시'\n",
    "pivot_df.index = pivot_df.index.map(lambda x: f\"{int(x):02d}월\")\n",
    "\n",
    "# 결과물 출력\n",
    "print(tabulate(pivot_df, headers='keys', tablefmt='grid', floatfmt=\".0f\"))"
   ]
  }
 ],
 "metadata": {
  "kernelspec": {
   "display_name": "Python 3 (ipykernel)",
   "language": "python",
   "name": "python3"
  },
  "language_info": {
   "codemirror_mode": {
    "name": "ipython",
    "version": 3
   },
   "file_extension": ".py",
   "mimetype": "text/x-python",
   "name": "python",
   "nbconvert_exporter": "python",
   "pygments_lexer": "ipython3",
   "version": "3.12.3"
  },
  "toc": {
   "base_numbering": 1,
   "nav_menu": {},
   "number_sections": true,
   "sideBar": true,
   "skip_h1_title": false,
   "title_cell": "Table of Contents",
   "title_sidebar": "Contents",
   "toc_cell": false,
   "toc_position": {},
   "toc_section_display": true,
   "toc_window_display": false
  }
 },
 "nbformat": 4,
 "nbformat_minor": 5
}
